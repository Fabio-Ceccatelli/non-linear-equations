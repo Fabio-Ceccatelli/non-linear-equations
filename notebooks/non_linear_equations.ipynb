{
 "cells": [
  {
   "cell_type": "markdown",
   "source": [
    "# Algorithms to approximate the solutions of non-linear equations\n",
    "\n",
    "Nonlinear equations are mathematical expressions that involve variables raised to powers greater than one, multiplied together, or subjected to transcendental functions such as exponential or trigonometric functions.\n",
    "\n",
    "These equations cannot be solved using algebraic manipulation because there is no formula or set of rules that can be applied to isolate the variable and find a unique solution.\n",
    "\n",
    "In this notebook I'm exploring three algorithms that can be used to approximate a solution to a non-linear equation.\n",
    "The equation used in the examples is:\n",
    "$$e^x + x = 0$$"
   ],
   "metadata": {
    "collapsed": false
   }
  },
  {
   "cell_type": "code",
   "execution_count": 108,
   "outputs": [
    {
     "data": {
      "text/plain": "<Figure size 640x480 with 1 Axes>",
      "image/png": "[encoded data removed]"
     },
     "metadata": {},
     "output_type": "display_data"
    }
   ],
   "source": [
    "import math, numpy as np\n",
    "from decimal import Decimal\n",
    "import matplotlib.pyplot as plt\n",
    "\n",
    "def f(x):\n",
    "    return pow(Decimal(math.e),x ) + x\n",
    "\n",
    "X=np.arange(Decimal(-5), Decimal(5), Decimal(0.1))\n",
    "y= f(X)\n",
    "\n",
    "plt.plot(X,y)\n",
    "plt.title('$e^x + x$')\n",
    "plt.grid(True)\n",
    "plt.show()"
   ],
   "metadata": {
    "collapsed": false
   }
  },
  {
   "cell_type": "markdown",
   "source": [
    "## Bisection\n",
    "The bisection method is an iterative algorithm that repeatedly bisects an interval and selects the subinterval where the function changes sign, reducing the interval size by half at each iteration, until the desired accuracy is achieved. It guarantees convergence to a root of a continuous function if the initial interval contains a root and the function is monotonic in that interval."
   ],
   "metadata": {
    "collapsed": false
   }
  },
  {
   "cell_type": "code",
   "execution_count": 109,
   "metadata": {
    "collapsed": true
   },
   "outputs": [
    {
     "name": "stdout",
     "output_type": "stream",
     "text": [
      "\n",
      "Best estimate x: -0.5671432904097838839154938042\n",
      "Loops: 96\n",
      "Max error: 0E-28\n",
      "\n"
     ]
    }
   ],
   "source": [
    "x0 = Decimal(-2) # First lower bound point, f(-2) is negative\n",
    "x1 = Decimal(2) # First upper bound point, f(2) is positive\n",
    "ERROR_TOLERANCE = 10**-28\n",
    "error = Decimal(\"inf\")\n",
    "loops = 0\n",
    "\n",
    "best_estimate_X = None\n",
    "best_estimate_Y = None\n",
    "\n",
    "while error > ERROR_TOLERANCE:\n",
    "    best_estimate_X = x0 + (x1 - x0)/2\n",
    "    best_estimate_Y = f(best_estimate_X)\n",
    "    error = Decimal(abs(x0 - best_estimate_X))\n",
    "\n",
    "    if best_estimate_Y < 0:\n",
    "        x0 = best_estimate_X\n",
    "    else:\n",
    "        x1 = best_estimate_X\n",
    "\n",
    "    loops += 1\n",
    "\n",
    "print(f\"\"\"\n",
    "Best estimate x: {best_estimate_X}\n",
    "Loops: {loops}\n",
    "Max error: {error}\n",
    "\"\"\")\n"
   ]
  },
  {
   "cell_type": "markdown",
   "source": [
    "_____\n",
    "\n",
    "## Secant\n",
    "The secant method is an iterative algorithm that approximates the root of a nonlinear equation by drawing a secant line through two points on the function and finding the intersection of that line with the x-axis, replacing one of the points with this new estimate and repeating until the desired accuracy is achieved. It converges faster than the bisection method, but may fail to converge or converge to a wrong root if the function has a flat region or oscillates.\n"
   ],
   "metadata": {
    "collapsed": false
   }
  },
  {
   "cell_type": "code",
   "execution_count": 110,
   "outputs": [
    {
     "name": "stdout",
     "output_type": "stream",
     "text": [
      "\n",
      "Best estimate x: -0.5671432904097838839154938041\n",
      "Loops: 9\n",
      "Difference to previous: 6.152667E-22\n",
      "\n"
     ]
    }
   ],
   "source": [
    "x0 = Decimal(-2) # First lower bound point, f(-2) is negative\n",
    "x1 = Decimal(2) # First upper bound point, f(2) is positive\n",
    "\n",
    "DIFFERENCE_TO_PREVIOUS_TOLERANCE = 10**-18\n",
    "difference_to_previous = Decimal(\"inf\")\n",
    "loops = 0\n",
    "\n",
    "while difference_to_previous > DIFFERENCE_TO_PREVIOUS_TOLERANCE:\n",
    "    # Calculating the slope\n",
    "    m = (f(x1) - f(x0))/(x1 - x0)\n",
    "\n",
    "    x0 = x1\n",
    "\n",
    "    # Finding the root of the secant and setting it to x1\n",
    "    x1 = (m*x0 -f(x1))/m\n",
    "\n",
    "    difference_to_previous = abs(f(x1)-f(x0))\n",
    "    loops += 1\n",
    "\n",
    "print(f\"\"\"\n",
    "Best estimate x: {x1}\n",
    "Loops: {loops}\n",
    "Difference to previous  loop: {difference_to_previous}\n",
    "\"\"\")"
   ],
   "metadata": {
    "collapsed": false
   }
  },
  {
   "cell_type": "markdown",
   "source": [
    "_____\n",
    "## Tangent\n",
    "The tangent method, also known as Newton's method, is an iterative algorithm that approximates the root of a nonlinear equation by using the slope of the tangent line at an initial estimate to find the intersection of the tangent with the x-axis, replacing the initial estimate with this new estimate and repeating until the desired accuracy is achieved. It converges faster than the secant method, but may fail to converge or converge to a wrong root if the initial estimate is too far from the true root or the function has a flat region or a singularity."
   ],
   "metadata": {
    "collapsed": false
   }
  },
  {
   "cell_type": "code",
   "execution_count": 111,
   "outputs": [
    {
     "name": "stdout",
     "output_type": "stream",
     "text": [
      "\n",
      "Best estimate x: -0.5671432904097838839154938041\n",
      "Loops: 6\n",
      "Difference to previous: 2.576987E-22\n",
      "\n"
     ]
    }
   ],
   "source": [
    "x0 = Decimal(-2) # Singular point, it's important to have an initial point that is not in a flat regions otherwise the algorithm will diverge.\n",
    "previous = Decimal(\"inf\")\n",
    "\n",
    "DIFFERENCE_TO_PREVIOUS_TOLERANCE = 10**-18\n",
    "difference_to_previous = Decimal(\"inf\")\n",
    "loops = 0\n",
    "\n",
    "# Derivative of the function\n",
    "def d(x):\n",
    "    return pow(Decimal(math.e),x ) + 1\n",
    "\n",
    "while difference_to_previous > DIFFERENCE_TO_PREVIOUS_TOLERANCE:\n",
    "    m = d(x0)\n",
    "    x0 = (m*x0 - f(x0))/m\n",
    "\n",
    "    difference_to_previous = abs(f(x0)-previous)\n",
    "    previous = f(x0)\n",
    "    loops += 1\n",
    "\n",
    "print(f\"\"\"\n",
    "Best estimate x: {x1}\n",
    "Loops: {loops}\n",
    "Difference to previous loop: {difference_to_previous}\n",
    "\"\"\")"
   ],
   "metadata": {
    "collapsed": false
   }
  }
 ],
 "metadata": {
  "kernelspec": {
   "display_name": "Python 3",
   "language": "python",
   "name": "python3"
  },
  "language_info": {
   "codemirror_mode": {
    "name": "ipython",
    "version": 2
   },
   "file_extension": ".py",
   "mimetype": "text/x-python",
   "name": "python",
   "nbconvert_exporter": "python",
   "pygments_lexer": "ipython2",
   "version": "2.7.6"
  }
 },
 "nbformat": 4,
 "nbformat_minor": 0
}
